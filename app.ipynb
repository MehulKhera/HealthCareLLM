{
 "cells": [
  {
   "cell_type": "code",
   "execution_count": 10,
   "metadata": {},
   "outputs": [],
   "source": [
    "\n",
    "import json\n",
    "import requests\n",
    "from langchain_community.llms import Ollama\n",
    "\n",
    "json_file = \"https://clchatagentassessment.s3.ap-south-1.amazonaws.com/queries.json\"\n",
    "output_file = \"output.json\"\n",
    "\n",
    "llm = Ollama(model=\"llama3.1\")"
   ]
  },
  {
   "cell_type": "code",
   "execution_count": 11,
   "metadata": {},
   "outputs": [
    {
     "name": "stderr",
     "output_type": "stream",
     "text": [
      "\u001b[?25lpulling manifest ⠋ \u001b[?25h\u001b[?25l\u001b[2K\u001b[1Gpulling manifest ⠹ \u001b[?25h\u001b[?25l\u001b[2K\u001b[1Gpulling manifest ⠹ \u001b[?25h\u001b[?25l\u001b[2K\u001b[1Gpulling manifest ⠸ \u001b[?25h\u001b[?25l\u001b[2K\u001b[1Gpulling manifest ⠴ \u001b[?25h\u001b[?25l\u001b[2K\u001b[1Gpulling manifest ⠴ \u001b[?25h\u001b[?25l\u001b[2K\u001b[1Gpulling manifest ⠧ \u001b[?25h\u001b[?25l\u001b[2K\u001b[1Gpulling manifest ⠧ \u001b[?25h\u001b[?25l\u001b[2K\u001b[1Gpulling manifest ⠇ \u001b[?25h\u001b[?25l\u001b[2K\u001b[1Gpulling manifest ⠏ \u001b[?25h\u001b[?25l\u001b[2K\u001b[1Gpulling manifest ⠋ \u001b[?25h\u001b[?25l\u001b[2K\u001b[1Gpulling manifest ⠹ \u001b[?25h\u001b[?25l\u001b[2K\u001b[1Gpulling manifest ⠹ \u001b[?25h\u001b[?25l\u001b[2K\u001b[1Gpulling manifest ⠼ \u001b[?25h\u001b[?25l\u001b[2K\u001b[1Gpulling manifest ⠴ \u001b[?25h\u001b[?25l\u001b[2K\u001b[1Gpulling manifest ⠴ \u001b[?25h\u001b[?25l\u001b[2K\u001b[1Gpulling manifest \n",
      "pulling 8eeb52dfb3bb... 100% ▕████████████████▏ 4.7 GB                         \n",
      "pulling 11ce4ee3e170... 100% ▕████████████████▏ 1.7 KB                         \n",
      "pulling 0ba8f0e314b4... 100% ▕████████████████▏  12 KB                         \n",
      "pulling 56bb8bd477a5... 100% ▕████████████████▏   96 B                         \n",
      "pulling 1a4c3c319823... 100% ▕████████████████▏  485 B                         \n",
      "verifying sha256 digest \n",
      "writing manifest \n",
      "removing any unused layers \n",
      "success \u001b[?25h\n"
     ]
    }
   ],
   "source": [
    "!ollama pull llama3.1"
   ]
  },
  {
   "cell_type": "code",
   "execution_count": 12,
   "metadata": {},
   "outputs": [
    {
     "data": {
      "text/plain": [
       "'The capital of India is **New Delhi**.'"
      ]
     },
     "execution_count": 12,
     "metadata": {},
     "output_type": "execute_result"
    }
   ],
   "source": [
    "llm = Ollama(model=\"llama3.1\")\n",
    "query=\"name the capital of india\"\n",
    "llm.invoke(query)"
   ]
  },
  {
   "cell_type": "code",
   "execution_count": 20,
   "metadata": {},
   "outputs": [],
   "source": [
    "def summarize_diet_chart_enhanced(diet_chart):\n",
    "    summary = {}\n",
    "    \n",
    "    summary[\"general_notes\"] = diet_chart.get('notes', \"\")\n",
    "    \n",
    "    current_day = diet_chart['meals_by_days'][0]\n",
    "    meals_summary = {}\n",
    "    \n",
    "    for meal in current_day['meals']:\n",
    "        meal_name = meal.get('name', \"Unnamed Meal\")\n",
    "        meal_timing = meal.get('timings', \"No Time Specified\")\n",
    "        \n",
    "        meal_info = {\n",
    "            \"timing\": meal_timing,\n",
    "            \"food_items\": [],\n",
    "            \"meal_notes\": []\n",
    "        }\n",
    "        \n",
    "        for option in meal.get('meal_options', []):\n",
    "            meal_info[\"meal_notes\"].append(option.get('notes', \"\"))\n",
    "            \n",
    "            food_items = [food_item['Food'].get('name', \"Unknown Food Item\") \n",
    "                          for food_item in option.get('meal_option_food_items', [])]\n",
    "            meal_info[\"food_items\"].extend(food_items)\n",
    "        \n",
    "        meals_summary[meal_name] = meal_info\n",
    "    \n",
    "    summary[\"meals\"] = meals_summary\n",
    "    \n",
    "    print(json.dumps(summary, indent=2))\n",
    "    \n",
    "    return summary"
   ]
  },
  {
   "cell_type": "code",
   "execution_count": 13,
   "metadata": {},
   "outputs": [],
   "source": [
    "def summarize_chat_history(chat_history):\n",
    "    return chat_history[-5:]"
   ]
  },
  {
   "cell_type": "code",
   "execution_count": 20,
   "metadata": {},
   "outputs": [],
   "source": [
    "def write_output(output):\n",
    "    with open(output_file, \"w\") as f:\n",
    "        json.dump(output, f, indent=2)\n",
    "    print(f\"Output written to {output_file}\")"
   ]
  },
  {
   "cell_type": "code",
   "execution_count": 14,
   "metadata": {},
   "outputs": [],
   "source": [
    "def fetch_queries():\n",
    "    response = requests.get(json_file)\n",
    "    return response.json()"
   ]
  },
  {
   "cell_type": "code",
   "execution_count": 34,
   "metadata": {},
   "outputs": [
    {
     "name": "stderr",
     "output_type": "stream",
     "text": [
      "\u001b[?25lpulling manifest ⠙ \u001b[?25h\u001b[?25l\u001b[2K\u001b[1Gpulling manifest ⠙ \u001b[?25h\u001b[?25l\u001b[2K\u001b[1Gpulling manifest ⠸ \u001b[?25h\u001b[?25l\u001b[2K\u001b[1Gpulling manifest ⠸ \u001b[?25h\u001b[?25l\u001b[2K\u001b[1Gpulling manifest ⠼ \u001b[?25h\u001b[?25l\u001b[2K\u001b[1Gpulling manifest ⠦ \u001b[?25h\u001b[?25l\u001b[2K\u001b[1Gpulling manifest ⠧ \u001b[?25h\u001b[?25l\u001b[2K\u001b[1Gpulling manifest ⠇ \u001b[?25h\u001b[?25l\u001b[2K\u001b[1Gpulling manifest ⠏ \u001b[?25h\u001b[?25l\u001b[2K\u001b[1Gpulling manifest ⠋ \u001b[?25h\u001b[?25l\u001b[2K\u001b[1Gpulling manifest ⠙ \u001b[?25h\u001b[?25l\u001b[2K\u001b[1Gpulling manifest ⠹ \u001b[?25h\u001b[?25l\u001b[2K\u001b[1Gpulling manifest ⠸ \u001b[?25h\u001b[?25l\u001b[2K\u001b[1Gpulling manifest ⠼ \u001b[?25h\u001b[?25l\u001b[2K\u001b[1Gpulling manifest ⠼ \u001b[?25h\u001b[?25l\u001b[2K\u001b[1Gpulling manifest ⠦ \u001b[?25h\u001b[?25l\u001b[2K\u001b[1Gpulling manifest ⠦ \u001b[?25h\u001b[?25l\u001b[2K\u001b[1Gpulling manifest \u001b[?25h\n",
      "Error: pull model manifest: file does not exist\n"
     ]
    }
   ],
   "source": []
  },
  {
   "cell_type": "code",
   "execution_count": 22,
   "metadata": {},
   "outputs": [],
   "source": [
    "def generate_response(query):\n",
    "    profile_context = query.get(\"profile_context\", {})\n",
    "    latest_query = query.get(\"latest_query\", {})\n",
    "    chat_context = query.get(\"chat_context\", {})\n",
    "\n",
    "    # Handle missing 'diet_chart' gracefully\n",
    "    diet_chart = profile_context.get('diet_chart', {})\n",
    "    summarized_diet_chart = summarize_diet_chart_enhanced(diet_chart) if diet_chart else {}\n",
    "    summarized_chat_history = summarize_chat_history(chat_context.get('chat_history', []))\n",
    "\n",
    "    prompt = f\"\"\"\n",
    "        Patient Profile:\n",
    "        {profile_context.get('patient_profile', {})}\n",
    "\n",
    "        Program: {profile_context.get('program_name', '')}\n",
    "\n",
    "        General Notes from Diet Chart:\n",
    "        {summarized_diet_chart.get('general_notes', '')}\n",
    "\n",
    "        Today's Diet Chart:\n",
    "    \"\"\"\n",
    "\n",
    "    for meal_name, meal_info in summarized_diet_chart.get(\"meals\", {}).items():\n",
    "        prompt += f\"\\nMeal: {meal_name} ({meal_info.get('timing', 'No Time Specified')})\\n\"\n",
    "        prompt += \"Foods:\\n\"\n",
    "        for food in meal_info.get('food_items', []):\n",
    "            prompt += f\"- {food}\\n\"\n",
    "        if meal_info.get('meal_notes', []):\n",
    "            prompt += \"Meal-specific Notes:\\n\"\n",
    "            for note in meal_info['meal_notes']:\n",
    "                prompt += f\"- {note}\\n\"\n",
    "\n",
    "    prompt += f\"\"\"\n",
    "\n",
    "    Latest Query:\n",
    "    {json.dumps(latest_query, indent=2)}\n",
    "\n",
    "    Recent Chat History:\n",
    "    {json.dumps(summarized_chat_history, indent=2)}\n",
    "\n",
    "    Based on the above information, provide a concise and actionable response to the patient's latest query. \n",
    "    Follow these guidelines:\n",
    "    1. Compare the meal in the query to the ideal meal from the diet chart for that specific time.\n",
    "    2. Check for compliance, noting any missing items or extra items consumed by the patient.\n",
    "    3. Consider any details from the image description, including the caption provided in the text.\n",
    "    4. Provide specific advice based on the patient's medical profile and recent chat history.\n",
    "    5. Use the same messaging style and tone as the patient, considering the chat history for guidance. \n",
    "    6. Keep the response concise and actionable.\n",
    "    7. Dont start the messages by \"based on the diet chart\" and other such phrases, it feels like response is AI generated. \n",
    "    8. Talk to the patient like you are their family doctor, i mean you should respond in the way the have asked(you can use hindi also(typed using english letters)). Your tone and messaging style should be the same as them.\n",
    "    9. At the end of each response, you might add a daily reminder taking reference from the general notes for the patient and suggest them a healthy thing to do which is mentioned in the general notes(dont say like- \"as per your general notes', just sound like a human)\n",
    "    \"\"\"\n",
    "\n",
    "    response = llm.generate(prompts=[prompt])\n",
    "    \n",
    "    if response.generations and response.generations[0]:\n",
    "        generated_text = response.generations[0][0].text\n",
    "        return generated_text.strip()\n",
    "    else:\n",
    "        return \"No response generated.\"\n",
    "\n",
    "\n"
   ]
  },
  {
   "cell_type": "code",
   "execution_count": 23,
   "metadata": {},
   "outputs": [
    {
     "name": "stdout",
     "output_type": "stream",
     "text": [
      "Output file 'output.json' has been created.\n"
     ]
    }
   ],
   "source": [
    "def main():\n",
    "    url = \"https://clchatagentassessment.s3.ap-south-1.amazonaws.com/queries.json\"\n",
    "    \n",
    "    ideal_responses = fetch_all_ideal_responses(url)\n",
    "    latest_queries = fetch_latest_queries(url)\n",
    "    ticket_ids = fetch_all_ticket_ids(url)\n",
    "    \n",
    "    if len(ticket_ids) != len(latest_queries) or len(latest_queries) != len(ideal_responses):\n",
    "        raise ValueError(\"Mismatch in the number of ticket_ids, latest_queries, and ideal_responses.\")\n",
    "    \n",
    "    queries = [{\"profile_context\": {}, \"latest_query\": query, \"chat_context\": {\"ticket_id\": ticket_id}}\n",
    "               for query, ticket_id in zip(latest_queries, ticket_ids)]\n",
    "    \n",
    "    generated_responses = [generate_response(query) for query in queries]\n",
    "    \n",
    "    output_data = []\n",
    "    for ticket_id, latest_query, generated_response, ideal_response in zip(ticket_ids, latest_queries, generated_responses, ideal_responses):\n",
    "        output_data.append({\n",
    "            \"ticket_id\": ticket_id,\n",
    "            \"latest_query\": latest_query,\n",
    "            \"generated_response\": generated_response,\n",
    "            \"ideal_response\": ideal_response\n",
    "        })\n",
    "    \n",
    "    with open('output.json', 'w') as f:\n",
    "        json.dump(output_data, f, indent=2)\n",
    "    \n",
    "    print(\"Output file 'output.json' has been created.\")\n",
    "\n",
    "if __name__ == \"__main__\":\n",
    "    main()"
   ]
  },
  {
   "cell_type": "code",
   "execution_count": 66,
   "metadata": {},
   "outputs": [
    {
     "name": "stdout",
     "output_type": "stream",
     "text": [
      "{\n",
      "  \"ideal_response\": \"Great job for having methi water, continue having it daily, it will help boost your metabolism.\\nVarsha, but i also noticed that you are having figs and raisins but they are not presrcibed in the diet plan, can i know why you have added them ?\"\n",
      "}\n"
     ]
    }
   ],
   "source": [
    "\n",
    "def fetch_ideal_response(url):\n",
    "    response = requests.get(url)\n",
    "    \n",
    "    if response.status_code == 200:\n",
    "        data = response.json()\n",
    "        \n",
    "        summary = {}\n",
    "\n",
    "        if isinstance(data, list):\n",
    "            if len(data) > 0 and isinstance(data[0], dict):\n",
    "                ideal_response = data[0].get('ideal_response', \"No Ideal Response Provided\")\n",
    "            else:\n",
    "                print(\"The list does not contain a valid dictionary.\")\n",
    "                return None\n",
    "        elif isinstance(data, dict):\n",
    "            \n",
    "            ideal_response = data.get('ideal_response', \"No Ideal Response Provided\")\n",
    "        else:\n",
    "            print(\"Unexpected data format.\")\n",
    "            return None\n",
    "        \n",
    "        summary[\"ideal_response\"] = ideal_response\n",
    "        \n",
    "        return summary\n",
    "    else:\n",
    "        print(\"Failed to retrieve data. Status code:\", response.status_code)\n",
    "        return None\n",
    "\n",
    "url = \"https://clchatagentassessment.s3.ap-south-1.amazonaws.com/queries.json\"\n",
    "result = fetch_ideal_response(url)\n",
    "if result:\n",
    "    print(json.dumps(result, indent=2))\n",
    "\n",
    "\n"
   ]
  },
  {
   "cell_type": "code",
   "execution_count": 18,
   "metadata": {},
   "outputs": [
    {
     "name": "stdout",
     "output_type": "stream",
     "text": [
      "[\n",
      "  \"3a16cf52-26a0-47d6-8c91-9810039676ee\",\n",
      "  \"3a078f8d-b2b9-41af-a592-5f1c6cdd0484\",\n",
      "  \"8e342394-8e9f-42d5-9905-52d570fa9c2f\",\n",
      "  \"4937b689-8013-4316-80ec-e66447c387c3\",\n",
      "  \"144d6db8-d7ad-482b-9de3-540bf39127f5\",\n",
      "  \"8a280b8a-26ab-40f5-bb1d-22b1aa4e47f3\",\n",
      "  \"15d414f1-3afc-4b4b-adc6-fafc3eaf3f8f\",\n",
      "  \"158e30e7-eb1b-4986-8515-05180028d296\",\n",
      "  \"1bc93246-b66f-409f-bbc1-dfec4cd2ae8d\",\n",
      "  \"e2ef7155-002b-4bdf-a8ef-270a8c59b025\",\n",
      "  \"ca331178-80da-48f8-a3a5-d483fa0391ea\",\n",
      "  \"ffa2b043-7c9f-43e3-b434-7f874f01b916\",\n",
      "  \"206b8b1e-25f6-48fb-9271-524f1752f27c\",\n",
      "  \"cb61d429-1350-41e0-b312-e83a01be382b\",\n",
      "  \"699bb2fa-0192-47df-ae49-dafd50c42238\",\n",
      "  \"53a39079-04ce-440f-8fe6-4a6d1e6a570d\",\n",
      "  \"caf28ae3-7327-4f61-ae15-2c18597d8e3e\",\n",
      "  \"9f991db6-ed10-4613-b597-040ae4cf6d92\",\n",
      "  \"d9cc7206-f263-4e5f-a095-f3dbb12d3fcc\",\n",
      "  \"7bcaa083-5f9e-4142-9976-9172ed6e5c90\",\n",
      "  \"84447c63-2773-488c-a799-c1702c200bff\",\n",
      "  \"42eed415-aee2-4ced-8772-89c086b779dc\",\n",
      "  \"05c707a6-aa65-4411-be6a-834af5df2ddd\"\n",
      "]\n"
     ]
    }
   ],
   "source": [
    "\n",
    "def fetch_all_ticket_ids(url):\n",
    "    response = requests.get(url)\n",
    "    \n",
    "    if response.status_code == 200:\n",
    "        data = response.json()\n",
    "        \n",
    "        ticket_ids = []\n",
    "        \n",
    "        if isinstance(data, list):\n",
    "            for item in data:\n",
    "                if isinstance(item, dict):\n",
    "                    chat_context = item.get('chat_context', {})\n",
    "                    \n",
    "                    ticket_id = chat_context.get('ticket_id', None)\n",
    "                    \n",
    "                    if ticket_id:\n",
    "                        ticket_ids.append(ticket_id)\n",
    "        elif isinstance(data, dict):\n",
    "            chat_context = data.get('chat_context', {})\n",
    "            ticket_id = chat_context.get('ticket_id', None)\n",
    "            if ticket_id:\n",
    "                ticket_ids.append(ticket_id)\n",
    "        else:\n",
    "            print(\"Unexpected data format.\")\n",
    "            return None\n",
    "        \n",
    "        return ticket_ids\n",
    "    else:\n",
    "        print(\"Failed to retrieve data. Status code:\", response.status_code)\n",
    "        return None\n",
    "\n",
    "url = \"https://clchatagentassessment.s3.ap-south-1.amazonaws.com/queries.json\"\n",
    "ticket_ids = fetch_all_ticket_ids(url)\n",
    "if ticket_ids:\n",
    "    print(json.dumps(ticket_ids, indent=2))\n",
    "\n"
   ]
  },
  {
   "cell_type": "code",
   "execution_count": 16,
   "metadata": {},
   "outputs": [
    {
     "name": "stdout",
     "output_type": "stream",
     "text": [
      "[\n",
      "  \"Great job for having methi water, continue having it daily, it will help boost your metabolism.\\nVarsha, but i also noticed that you are having figs and raisins but they are not presrcibed in the diet plan, can i know why you have added them ?\",\n",
      "  \"Varsha, i noticed you are having upma instead of poha as prescribed in your diet plan, can you let me know why ?\",\n",
      "  \"Shobhita, I noticed aap oats le rhe ho, which is a healthy choice, but maine aapki diet mein aloo parantha + curd likha tha, aapne vo nhi khaya ?\",\n",
      "  \"Great job on following your diet plan, keep it up!\",\n",
      "  \"Great job sticking to your meal plan! Keep it up!\",\n",
      "  \"Great job aarti, why have you not included milk ?\",\n",
      "  \"Great job, keep it up! Sesame and sunflower seeds are great source of omega 3 fatty acid which help regulate your period cycle.\",\n",
      "  \"Good job, coconut water is great source of potassium. Why have you not included seeds with this ?\",\n",
      "  \"Rupa, I noticed that you were prescribed mixed veg vermicili, can you let know why are you having idli ?\",\n",
      "  \"Great job for having oats roti, salad and curd, but i noticed you are not having lauki chana dal as prescribed in the diet plan, can you let me know the reason ?\",\n",
      "  \"Great job! I just checked, you are having sunflower and sesame seeds, but i have mentioned pumpkin and flax seeds in your diet .\",\n",
      "  \"Charleen, why are you having only paneer ?\",\n",
      "  \"Aarti, aap konsi sabzi kha rhe ho ?\",\n",
      "  \"Try to share picture of the entire meal, so that we can review accordingly. Keep it up!\",\n",
      "  \"Great choice, makhana and peanuts are rich in calcium and protien.\",\n",
      "  \"Your meal looks good, you can add curd and more salad in your meal to make it complete.\",\n",
      "  \"Nice choice! Makhana and spearmint tea are great for your diet. Keep it up!\",\n",
      "  \"Good shobhita, I hope you had curd and salad along with roti and bhindi. Also, I would suggest you to have 1 apple instead of 2 and after how much gap did you have the apples ?\",\n",
      "  \"Shobhita, as mentioned on your diet chart, your dinner was planned at 8pm, any reasons why you are taking it so early ?\",\n",
      "  \"Prefer to maintain a gap of 20-30 mins between Solid foods and fluids to ensure better absorption rate\",\n",
      "  \"You can add honey to lemon water but skip the salt. Jeera water and sauf ka pani is fine, Your vegetable dalia looks good! Keep it up!\",\n",
      "  \"Great choice! Ajwain water is excellent for digestion. Keep it up!\",\n",
      "  \"Great choice, the diet plan mentioned popcorn but you are having makahna which are even healthier and a great source of fiber and calcium.\"\n",
      "]\n"
     ]
    }
   ],
   "source": [
    "\n",
    "def fetch_all_ideal_responses(url):\n",
    "    response = requests.get(url)\n",
    "    \n",
    "    if response.status_code == 200:\n",
    "        data = response.json()\n",
    "        \n",
    "        ideal_responses = []\n",
    "        \n",
    "        if isinstance(data, list):\n",
    "            for item in data:\n",
    "                if isinstance(item, dict):\n",
    "                    ideal_response = item.get('ideal_response', None)\n",
    "                    \n",
    "                    if ideal_response:\n",
    "                        ideal_responses.append(ideal_response)\n",
    "        elif isinstance(data, dict):\n",
    "            ideal_response = data.get('ideal_response', None)\n",
    "            if ideal_response:\n",
    "                ideal_responses.append(ideal_response)\n",
    "        else:\n",
    "            print(\"Unexpected data format.\")\n",
    "            return None\n",
    "        \n",
    "        return ideal_responses\n",
    "    else:\n",
    "        print(\"Failed to retrieve data. Status code:\", response.status_code)\n",
    "        return None\n",
    "\n",
    "\n",
    "url = \"https://clchatagentassessment.s3.ap-south-1.amazonaws.com/queries.json\"\n",
    "ideal_responses = fetch_all_ideal_responses(url)\n",
    "if ideal_responses:\n",
    "    print(json.dumps(ideal_responses, indent=2))\n"
   ]
  },
  {
   "cell_type": "code",
   "execution_count": 17,
   "metadata": {},
   "outputs": [
    {
     "data": {
      "text/plain": [
       "[[{'role': 'user',\n",
       "   'content': 'Sent an image (The image shows a hand holding a small metal bowl containing yellowish-brown seeds soaked in water. The background includes a bed with a colorful bedsheet and a tiled wall.)'},\n",
       "  {'role': 'user',\n",
       "   'content': \"Sent an image (The image shows a small metal bowl containing a variety of dried fruits and nuts. Visible items include a dried fig, almonds, walnuts, and raisins. The bowl is placed on a dark fabric surface, possibly someone's lap.) with the following caption Dry fruits.\"},\n",
       "  {'role': 'user',\n",
       "   'content': 'Replied to the following message: \"Sent an image (The image shows a hand holding a small metal bowl containing yellowish-brown seeds soaked in water. The background includes a bed with a colorful bedsheet and a tiled wall.)\", with: \"Methi dana done\"'}],\n",
       " [{'role': 'user',\n",
       "   'content': 'Sent an image (The image shows a bowl of a yellow-orange colored dish, likely a type of porridge or savory pudding, with visible black mustard seeds and small pieces of vegetables. A spoon is placed inside the bowl, suggesting it is ready to be eaten. The bowl is placed on a light-colored surface.) with the following caption One bowl vegetable upma.'}],\n",
       " [{'role': 'user',\n",
       "   'content': 'Sent an image (The image shows a close-up of a container with a mixture of food items. It appears to contain chunks of potatoes, oats, and possibly some nuts or seeds, all mixed in a creamy liquid. A spoon is partially visible, indicating that the food is ready to be eaten. The container is placed on a surface with a purple fabric underneath.) with the following caption Breakfast.'},\n",
       "  {'role': 'user',\n",
       "   'content': 'And yesterday i skipped on dinner \\nPhoto click krna bhul gyi thi but i had barley daliya'},\n",
       "  {'role': 'user',\n",
       "   'content': 'Today’s weight after clearning stomach 73.4 kg'}],\n",
       " [{'role': 'user',\n",
       "   'content': 'Sent an image (The image shows a cup filled with milk. The cup has a design that resembles the texture of a tree trunk with visible rings and cracks. The cup is placed on a table with a colorful, possibly floral, tablecloth. In the background, there is a wooden cabinet with a pair of shoes on one of its shelves.) with the following caption 1 cup of milk without sugar only add one cardamom.'}],\n",
       " [{'role': 'user',\n",
       "   'content': 'Sent an image (The image shows a white mug filled with a red beverage, placed on a white plate with a blue decorative border. On the plate, there are several almonds and pieces of walnuts. The background appears to be a dark, textured surface.) with the following caption I have done ✔️ 7:00am meal 😋 😍 👌.'},\n",
       "  {'role': 'user',\n",
       "   'content': 'Sent an image (The image shows a bowl of cereal with milk placed on a decorative plate. A spoon is partially visible in the bowl, and the setup is on a wooden surface. The cereal appears to be a type of flake cereal.)'}],\n",
       " [{'role': 'user',\n",
       "   'content': 'Sent an image (The image shows a stainless steel plate containing a serving of cooked food, which appears to be a grain-based dish with vegetables, possibly upma or khichdi. There is also a portion of green chutney or sauce on the side, and a spoon is placed on the plate.) with the following caption Beark fast.'}],\n",
       " [{'role': 'user',\n",
       "   'content': 'Sent an image (The image shows a close-up of a bowl containing pomegranate seeds and almond slices. The bowl is metallic, and there is a spoon inside it. The background appears to be a tablecloth with a partial view of a colorful design.) with the following caption Pomegranate with 1 spoon seasme seeds and 1 spoon  sunflower seeds.'}],\n",
       " [{'role': 'user', 'content': '1 Nariyal Panni'}],\n",
       " [{'role': 'user',\n",
       "   'content': 'Sent an image (The image shows a plate with a few pieces of food, possibly idli, which is a type of South Indian steamed rice cake. There is also a small amount of white sauce or chutney on the plate. The plate has a simple design with a green dot and black lines. The background includes a colorful, floral-patterned tablecloth.) with the following caption Idly with chutney.'}],\n",
       " [{'role': 'user',\n",
       "   'content': 'Sent an image (The image shows a meal served on a metal plate. The meal includes:\\n\\n1. A stuffed paratha (Indian flatbread).\\n2. A serving of green chutney.\\n3. A bowl with three boiled eggs in a yellowish liquid, likely a curry.\\n4. A bowl of sliced cucumbers.\\n5. A glass of buttermilk or yogurt with herbs sprinkled on top.\\n\\nThe plate is placed on a patterned tablecloth.) with the following caption 2 Oats wheat roti add veggies.. and coriander chutni nd little onion sbji nd I added mint and cumin in  buttermilk.'},\n",
       "  {'role': 'user', 'content': 'Wd salad'}],\n",
       " [{'role': 'user',\n",
       "   'content': 'Sent an image (The image shows a bowl with a floral pattern containing pieces of orange fruit, likely papaya, sprinkled with sesame seeds and sunflower seeds. There is a spoon in the bowl, suggesting the dish is ready to be eaten. The bowl is placed on a grey countertop.) with the following caption I have done ✔️ meal 11:30am.'},\n",
       "  {'role': 'user',\n",
       "   'content': 'Sent an image (This image is a detailed meal plan for Day 4, Friday, dated 14-06-2024. It outlines specific foods and beverages to be consumed at various times throughout the day, along with their quantities and some preparation instructions. The schedule includes:\\n\\n- **Early Morning (08:00 AM):** Cinnamon water, soaked almonds, and soaked walnuts.\\n- **Breakfast (10:00 AM):** Apple cinnamon overnight oats.\\n- **Mid Meal (11:00 AM):** Pomegranates and coconut water.\\n- **Lunch (02:00 PM):** Bajra roti, plain toor dal, curd, and tomato cucumber salad.\\n- **Evening (05:00 PM):** Spearmint tea, roasted kala chana, flax seeds, and pumpkin seeds.\\n- **Dinner (08:00 PM):** Boiled sprouts with cucumber and tomato.\\n- **Post Dinner (10:00 PM):** Jeera water.\\n\\nThe plan also includes some nutritional tips and preparation notes for each meal.)'},\n",
       "  {'role': 'user',\n",
       "   'content': 'Sent an image (The image shows a packet of milk from Mother Dairy placed on a countertop. In front of the milk packet, there is a bowl containing a mixture of seeds and nuts, possibly in yogurt or milk. The seeds and nuts include pumpkin seeds, flax seeds, and other assorted seeds.) with the following caption I have done before 30 minutes  drink  🍸 Buttermilk.'}],\n",
       " [{'role': 'user',\n",
       "   'content': 'Sent an image (The image shows a plate with a floral design containing several small, rectangular pieces of white cheese, likely paneer. The plate is placed on a surface with a patterned cloth.)'},\n",
       "  {'role': 'user',\n",
       "   'content': 'Replied to the following message: \"Sent an image (The image shows a plate with a floral design containing several small, rectangular pieces of white cheese, likely paneer. The plate is placed on a surface with a patterned cloth.)\", with: \"Only Salad 🥗 😋\"'}],\n",
       " [{'role': 'user',\n",
       "   'content': 'Sent an image (The image shows a meal consisting of a plate with sliced cucumbers and tomato wedges, and a metal tray with flatbreads (possibly chapati or roti), a bowl of curry, and a bowl of yogurt or raita. The setting appears to be on a table with a patterned tablecloth.) with the following caption Lunch.'}],\n",
       " [{'role': 'user', 'content': 'Yes mam I added later'}],\n",
       " [{'role': 'user',\n",
       "   'content': 'Sent an image (The image shows a metal bowl containing a mix of roasted peanuts and puffed lotus seeds (makhana). The bowl is placed on a beige fabric with a pink embroidered design.)'},\n",
       "  {'role': 'user', 'content': '1 glass milk @ 11:30'},\n",
       "  {'role': 'user',\n",
       "   'content': 'Replied to the following message: \"Sent an image (The image shows a metal bowl containing a mix of roasted peanuts and puffed lotus seeds (makhana). The bowl is placed on a beige fabric with a pink embroidered design.)\", with: \"@ 2:30\"'}],\n",
       " [{'role': 'user',\n",
       "   'content': \"Sent an image (The image shows a plate of food that includes a bowl of yellow lentil soup (dal) with a spoon in it, a piece of flatbread (roti), some cooked vegetables, and a slice of raw onion. The plate is placed on a table with a patterned tablecloth. A person's foot wearing a sandal is visible at the bottom of the image.) with the following caption Moong dal , little cabbage, jowar roti for lunch.\"}],\n",
       " [{'role': 'user',\n",
       "   'content': 'Sent an image (The image shows a small metal bowl filled with puffed snacks, likely makhana (fox nuts), and a ceramic cup with a wooden texture design containing a yellowish liquid, possibly tea. The items are placed on a fabric surface with a striped pattern visible in the background.) with the following caption Makhana nd spearmint tea.'}],\n",
       " [{'role': 'user', 'content': 'i had bhindi and oats roti 2 in lunch a'},\n",
       "  {'role': 'user', 'content': 'and right now i had 2 apple pealed'},\n",
       "  {'role': 'user',\n",
       "   'content': 'i forgot to click pictures due to office hours'}],\n",
       " [{'role': 'user',\n",
       "   'content': \"Sent an image (The image shows a glass container filled with a colorful vegetable and tofu stir-fry. The dish includes red, green, and yellow bell peppers, tomatoes, and tofu cubes, all mixed together. The container is placed on a wooden surface, and part of a person's arm, a bottle of hand sanitizer, and a laptop are visible in the background.) with the following caption Dinner.\"}],\n",
       " [{'role': 'user', 'content': 'Also i had lemon tea with it'}],\n",
       " [{'role': 'user', 'content': 'Lemon water m honey or salt add kr skte h n?'},\n",
       "  {'role': 'user', 'content': 'Jeera water or souf water add nh kr skte kya?'},\n",
       "  {'role': 'user',\n",
       "   'content': 'Sent an image (The image shows a close-up of a bowl of cooked food, likely a type of soup or stew. The dish appears to contain small grains or lentils, along with pieces of vegetables and possibly some spices. The food has a reddish-brown color, indicating it might be seasoned with spices or a tomato-based sauce. A spoon is partially visible in the bowl.) with the following caption Vegetable dalia.'}],\n",
       " [{'role': 'user', 'content': 'Night drink'},\n",
       "  {'role': 'user', 'content': 'Ajwain'}],\n",
       " [{'role': 'user',\n",
       "   'content': 'Sent an image (The image shows a metallic cup filled with a brown liquid, likely tea or coffee, with a metallic spoon inside. The cup is placed on a textured surface, possibly a cloth or towel.) with the following caption Turmeric water.'}]]"
      ]
     },
     "execution_count": 17,
     "metadata": {},
     "output_type": "execute_result"
    }
   ],
   "source": [
    "def fetch_latest_queries(url):\n",
    "    response = requests.get(url)\n",
    "    if response.status_code == 200:\n",
    "        data = response.json()\n",
    "        latest_queries = [entry.get('latest_query', {}) for entry in data]\n",
    "        return latest_queries\n",
    "    else:\n",
    "        raise Exception(f\"Failed to retrieve latest queries. Status code: {response.status_code}\")\n",
    "fetch_latest_queries(url)\n",
    "\n"
   ]
  },
  {
   "cell_type": "code",
   "execution_count": null,
   "metadata": {},
   "outputs": [],
   "source": []
  }
 ],
 "metadata": {
  "kernelspec": {
   "display_name": "Python 3",
   "language": "python",
   "name": "python3"
  },
  "language_info": {
   "codemirror_mode": {
    "name": "ipython",
    "version": 3
   },
   "file_extension": ".py",
   "mimetype": "text/x-python",
   "name": "python",
   "nbconvert_exporter": "python",
   "pygments_lexer": "ipython3",
   "version": "3.12.4"
  }
 },
 "nbformat": 4,
 "nbformat_minor": 2
}
